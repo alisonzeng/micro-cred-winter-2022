{
  "nbformat": 4,
  "nbformat_minor": 0,
  "metadata": {
    "colab": {
      "name": "AZ Unit2 L6_Dictionary_Assignment_5.ipynb",
      "provenance": [],
      "collapsed_sections": [],
      "include_colab_link": true
    },
    "kernelspec": {
      "name": "python3",
      "display_name": "Python 3"
    }
  },
  "cells": [
    {
      "cell_type": "markdown",
      "metadata": {
        "id": "view-in-github",
        "colab_type": "text"
      },
      "source": [
        "<a href=\"https://colab.research.google.com/github/alisonzeng/micro-cred-winter-2022/blob/main/AZ_Unit2_L6_Dictionary_Assignment_5.ipynb\" target=\"_parent\"><img src=\"https://colab.research.google.com/assets/colab-badge.svg\" alt=\"Open In Colab\"/></a>"
      ]
    },
    {
      "cell_type": "markdown",
      "metadata": {
        "id": "Vgs8Kp4TidFQ"
      },
      "source": [
        "# Introduction to Python - Dictionary - Assignment #5 by Alison Zeng"
      ]
    },
    {
      "cell_type": "markdown",
      "metadata": {
        "id": "_Hq7Ny79iwgD"
      },
      "source": [
        "## 1.\tCreate a simple dictionary that stores 2 variables, for example: first and last name."
      ]
    },
    {
      "cell_type": "code",
      "metadata": {
        "id": "lotvpVpvlKsR",
        "colab": {
          "base_uri": "https://localhost:8080/"
        },
        "outputId": "e8c96f58-ebfc-4d85-b0f0-75020d2c3551"
      },
      "source": [
        "simple = {'first_name':'Bobby', 'last_name':'Smith'}"
      ],
      "execution_count": 1,
      "outputs": [
        {
          "output_type": "stream",
          "name": "stdout",
          "text": [
            "{'first_name': 'Bobby', 'last_name': 'Smith'}\n"
          ]
        }
      ]
    },
    {
      "cell_type": "markdown",
      "metadata": {
        "id": "io_27RSlizno"
      },
      "source": [
        "## 2.\tPrint out those variables stored in your previous dictionary. "
      ]
    },
    {
      "cell_type": "code",
      "metadata": {
        "id": "Dh1o5cAylSHB",
        "colab": {
          "base_uri": "https://localhost:8080/"
        },
        "outputId": "8eec761c-6e4e-4ed1-afc5-e777d7e5474d"
      },
      "source": [
        "simple = {'first_name':'Bobby', 'last_name':'Smith'}\n",
        "print(simple)"
      ],
      "execution_count": 3,
      "outputs": [
        {
          "output_type": "stream",
          "name": "stdout",
          "text": [
            "{'first_name': 'Bobby', 'last_name': 'Smith'}\n"
          ]
        }
      ]
    },
    {
      "cell_type": "markdown",
      "metadata": {
        "id": "DAW8m8IQjRyR"
      },
      "source": [
        "## 3.\tAdd a message to those variables on printing: for example: “Hello, firstname lastname!”"
      ]
    },
    {
      "cell_type": "code",
      "metadata": {
        "id": "guULMEhrjYtT",
        "colab": {
          "base_uri": "https://localhost:8080/"
        },
        "outputId": "e3e339b4-9510-4d4f-fa7d-f318a11fbe4e"
      },
      "source": [
        "simple = {'first_name':'Bobby', 'last_name':'Smith'}\n",
        "print(\"Hello, \"+simple['first_name']+ \" \" + simple['last_name'] + \"!\")"
      ],
      "execution_count": 7,
      "outputs": [
        {
          "output_type": "stream",
          "name": "stdout",
          "text": [
            "Hello, Bobby Smith!\n"
          ]
        }
      ]
    },
    {
      "cell_type": "markdown",
      "metadata": {
        "id": "dpa_YOt4jXyo"
      },
      "source": [
        "## 4.\tCreate a dictionary that holds 2 key: value pairs:\n",
        "\n",
        "a.\tLook through your dictionary and print each pair,\n"
      ]
    },
    {
      "cell_type": "code",
      "metadata": {
        "id": "pltxfnh3iJLW",
        "colab": {
          "base_uri": "https://localhost:8080/"
        },
        "outputId": "8caf93bb-f154-4171-e9d8-94cf831ea9f3"
      },
      "source": [
        "vocab={'python':'a programing language that is easy to understand','dictionary':'collection that is unordered and changeable'}\n",
        "print('python: ' + vocab['python'])\n",
        "print('dictionary: '+ vocab['dictionary'])"
      ],
      "execution_count": 9,
      "outputs": [
        {
          "output_type": "stream",
          "name": "stdout",
          "text": [
            "python: a programing language that is easy to understand\n",
            "dictionary: collection that is unordered and changeable\n"
          ]
        }
      ]
    },
    {
      "cell_type": "markdown",
      "source": [
        "## Create a nested dictionary containing three dictionaries -- these dictionaries could be anything (favorite pets, travel locations, etc)\n",
        "a. Looping through the dictionaries and print a message for each."
      ],
      "metadata": {
        "id": "ar5QH-WQb3fY"
      }
    },
    {
      "cell_type": "code",
      "source": [
        "nests={\n",
        "    'name':'johnny korn',\n",
        "    'fav_pets':{'mammal':'dog','amphibian':'frog'},\n",
        "    'travel_locations':{'asia':'tokyo','europe':'madrid'},\n",
        "    'fav_color':{'cool_color':'blue','warm_color':'orange'}\n",
        "}\n",
        "print(\"Learning more about...\")\n",
        "for key, value in nests.items():\n",
        "  if key =='name':\n",
        "    print(value.title(),\"!\\n\")\n",
        "for key,value in nests['fav_pets'].items():\n",
        "      print(\"favorite pet that is\", key, \":\", value)\n",
        "for key,value in nests['travel_locations'].items():\n",
        "      print(\"best travel location in\",key, \":\", value.title())\n",
        "for key,value in nests['fav_color'].items():\n",
        "      print(\"favorite\",key, \":\", value)\n"
      ],
      "metadata": {
        "colab": {
          "base_uri": "https://localhost:8080/"
        },
        "id": "OVQDjKMzcHAI",
        "outputId": "1361b66c-a45a-4bb6-e966-ba4b849aa8d4"
      },
      "execution_count": 64,
      "outputs": [
        {
          "output_type": "stream",
          "name": "stdout",
          "text": [
            "Learning more about...\n",
            "Johnny Korn !\n",
            "\n",
            "favorite pet that is mammal : dog\n",
            "favorite pet that is amphibian : frog\n",
            "best travel location in asia : Tokyo\n",
            "best travel location in europe : Madrid\n",
            "favorite cool_color : blue\n",
            "favorite warm_color : orange\n"
          ]
        }
      ]
    }
  ]
}
