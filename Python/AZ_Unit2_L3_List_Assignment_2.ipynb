{
  "nbformat": 4,
  "nbformat_minor": 0,
  "metadata": {
    "colab": {
      "name": "AZ Unit2 L3_List_Assignment_2.ipynb",
      "provenance": [],
      "collapsed_sections": [],
      "toc_visible": true
    },
    "kernelspec": {
      "name": "python3",
      "display_name": "Python 3"
    }
  },
  "cells": [
    {
      "cell_type": "markdown",
      "metadata": {
        "id": "Vgs8Kp4TidFQ"
      },
      "source": [
        "# Intrdouction to Python - List - Assingment #2  "
      ]
    },
    {
      "cell_type": "markdown",
      "metadata": {
        "id": "_Hq7Ny79iwgD"
      },
      "source": [
        "## 1.Create a list of 5 of your favorite tv shows.  ?"
      ]
    },
    {
      "cell_type": "code",
      "metadata": {
        "id": "lotvpVpvlKsR"
      },
      "source": [
        "shows=['Breaking Bad','Umbrella Academy','You','Greys Anatomy','Victorious']\n"
      ],
      "execution_count": 18,
      "outputs": []
    },
    {
      "cell_type": "markdown",
      "metadata": {
        "id": "io_27RSlizno"
      },
      "source": [
        "## 2.\tPrint the list in its original order"
      ]
    },
    {
      "cell_type": "code",
      "metadata": {
        "id": "Dh1o5cAylSHB",
        "colab": {
          "base_uri": "https://localhost:8080/"
        },
        "outputId": "0a98c23a-70de-4091-a7d9-708066219377"
      },
      "source": [
        "shows=['Breaking Bad','Umbrella Academy','You','Greys Anatomy','Victorious']\n",
        "print(shows)"
      ],
      "execution_count": 19,
      "outputs": [
        {
          "output_type": "stream",
          "name": "stdout",
          "text": [
            "['Breaking Bad', 'Umbrella Academy', 'You', 'Greys Anatomy', 'Victorious']\n"
          ]
        }
      ]
    },
    {
      "cell_type": "markdown",
      "metadata": {
        "id": "DAW8m8IQjRyR"
      },
      "source": [
        "## 3.\tUse the sorted() function to print the list in alphabetical order.  How is sorted() different from sort()?"
      ]
    },
    {
      "cell_type": "code",
      "metadata": {
        "id": "guULMEhrjYtT",
        "colab": {
          "base_uri": "https://localhost:8080/"
        },
        "outputId": "4e0bfd14-7400-4bf8-cbec-a182fd4c8dd5"
      },
      "source": [
        "shows=['Breaking Bad','Umbrella Academy','You','Greys Anatomy','Victorious']\n",
        "print(sorted(shows))"
      ],
      "execution_count": 20,
      "outputs": [
        {
          "output_type": "stream",
          "name": "stdout",
          "text": [
            "['Breaking Bad', 'Greys Anatomy', 'Umbrella Academy', 'Victorious', 'You']\n"
          ]
        }
      ]
    },
    {
      "cell_type": "markdown",
      "source": [
        "The difference between sorted() and sort() is that sorted() is used in the print statement and is temporary. sort() is used at the end of the variable like this shows.sort() and it is permanent."
      ],
      "metadata": {
        "id": "n-yFeQpwQ6A1"
      }
    },
    {
      "cell_type": "markdown",
      "metadata": {
        "id": "dpa_YOt4jXyo"
      },
      "source": [
        "## 4.\tPrint out your original list."
      ]
    },
    {
      "cell_type": "code",
      "metadata": {
        "id": "pltxfnh3iJLW",
        "colab": {
          "base_uri": "https://localhost:8080/"
        },
        "outputId": "4b6b855c-1cd3-4c55-8298-00c5ef620d63"
      },
      "source": [
        "shows=['Breaking Bad','Umbrella Academy','You','Greys Anatomy','Victorious']\n",
        "print(shows)"
      ],
      "execution_count": 21,
      "outputs": [
        {
          "output_type": "stream",
          "name": "stdout",
          "text": [
            "['Breaking Bad', 'Umbrella Academy', 'You', 'Greys Anatomy', 'Victorious']\n"
          ]
        }
      ]
    },
    {
      "cell_type": "markdown",
      "metadata": {
        "id": "Ka84RGy4jmLT"
      },
      "source": [
        "## 5.\tUsed sorted() to print your list in reverse alphabetical order."
      ]
    },
    {
      "cell_type": "code",
      "metadata": {
        "id": "34IFFtK4jrg4",
        "colab": {
          "base_uri": "https://localhost:8080/"
        },
        "outputId": "cd7397db-7fd2-417e-ce78-edb3d2bd675f"
      },
      "source": [
        "shows=['Breaking Bad','Umbrella Academy','You','Greys Anatomy','Victorious']\n",
        "print(sorted(shows, reverse=True))"
      ],
      "execution_count": 23,
      "outputs": [
        {
          "output_type": "stream",
          "name": "stdout",
          "text": [
            "['You', 'Victorious', 'Umbrella Academy', 'Greys Anatomy', 'Breaking Bad']\n"
          ]
        }
      ]
    },
    {
      "cell_type": "markdown",
      "metadata": {
        "id": "ZKHwdMnLliFy"
      },
      "source": [
        "## 6.\tCreate a message indicating how many favorite TV shows you have – use the len() function."
      ]
    },
    {
      "cell_type": "code",
      "metadata": {
        "id": "eXUDZfLOllTT",
        "colab": {
          "base_uri": "https://localhost:8080/"
        },
        "outputId": "2f86d902-3f2e-4575-cb32-5137a9053449"
      },
      "source": [
        "shows=['Breaking Bad','Umbrella Academy','You','iCarly','Victorious']\n",
        "x=len(shows)\n",
        "print(\"i have\" + \" \"+ str(x) + \" \" + \"favorite shows.\")\n"
      ],
      "execution_count": 16,
      "outputs": [
        {
          "output_type": "stream",
          "name": "stdout",
          "text": [
            "i have 5 favorite shows.\n"
          ]
        }
      ]
    }
  ]
}